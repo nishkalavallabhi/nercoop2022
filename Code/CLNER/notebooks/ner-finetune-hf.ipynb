{
 "cells": [
  {
   "cell_type": "code",
   "execution_count": 1,
   "id": "0a599916",
   "metadata": {},
   "outputs": [],
   "source": [
    "from datasets import load_dataset, concatenate_datasets, DatasetDict\n",
    "from transformers import AutoTokenizer\n",
    "from transformers import AutoModelForTokenClassification, TrainingArguments, Trainer\n",
    "from transformers import DataCollatorForTokenClassification\n",
    "import evaluate\n",
    "import numpy as np"
   ]
  },
  {
   "cell_type": "code",
   "execution_count": 2,
   "id": "51b26f95",
   "metadata": {},
   "outputs": [],
   "source": [
    "#Function to compute various metrics. Can be adapted as needed later. \n",
    "def compute_metrics(p):\n",
    "    seqeval = evaluate.load(\"seqeval\")\n",
    "    predictions, labels = p\n",
    "    predictions = np.argmax(predictions, axis=2)\n",
    "\n",
    "    true_predictions = [\n",
    "        [label_list[p] for (p, l) in zip(prediction, label) if l != -100]\n",
    "        for prediction, label in zip(predictions, labels)\n",
    "    ]\n",
    "    true_labels = [\n",
    "        [label_list[l] for (p, l) in zip(prediction, label) if l != -100]\n",
    "        for prediction, label in zip(predictions, labels)\n",
    "    ]\n",
    "    results = seqeval.compute(predictions=true_predictions, references=true_labels)\n",
    "    return {\n",
    "        \"precision\": results[\"overall_precision\"],\n",
    "        \"recall\": results[\"overall_recall\"],\n",
    "        \"f1\": results[\"overall_f1\"],\n",
    "        \"accuracy\": results[\"overall_accuracy\"],\n",
    "    }"
   ]
  },
  {
   "cell_type": "code",
   "execution_count": 3,
   "id": "6fb12691",
   "metadata": {},
   "outputs": [],
   "source": [
    "#tokenization\n",
    "def tokenize_and_align_labels(examples):\n",
    "    tokenized_inputs = tokenizer(examples[\"tokens\"], truncation=True, is_split_into_words=True)\n",
    "\n",
    "    labels = []\n",
    "    for i, label in enumerate(examples[f\"ner_tags\"]):\n",
    "        word_ids = tokenized_inputs.word_ids(batch_index=i)  # Map tokens to their respective word.\n",
    "        previous_word_idx = None\n",
    "        label_ids = []\n",
    "        for word_idx in word_ids:  # Set the special tokens to -100.\n",
    "            if word_idx is None:\n",
    "                label_ids.append(-100)\n",
    "            elif word_idx != previous_word_idx:  # Only label the first token of a given word.\n",
    "                label_ids.append(label[word_idx])\n",
    "            else:\n",
    "                label_ids.append(-100)\n",
    "            previous_word_idx = word_idx\n",
    "        labels.append(label_ids)\n",
    "\n",
    "    tokenized_inputs[\"labels\"] = labels\n",
    "    return tokenized_inputs"
   ]
  },
  {
   "cell_type": "code",
   "execution_count": 4,
   "id": "66baac01",
   "metadata": {},
   "outputs": [],
   "source": [
    "#Training the model for the first step. \n",
    "def train_one_model(tokenized_dataset, newtest_dataset, model, tokenizer, save_path):\n",
    "    \n",
    "        training_args = TrainingArguments(\n",
    "                        output_dir=\"tmp\",\n",
    "                        report_to=\"none\",\n",
    "                        learning_rate=2e-5,\n",
    "                        per_device_train_batch_size=16,\n",
    "                        per_device_eval_batch_size=16,\n",
    "                        num_train_epochs=1,\n",
    "                        weight_decay=0.01,\n",
    "                        evaluation_strategy=\"epoch\",\n",
    "                        save_strategy=\"epoch\",\n",
    "                        load_best_model_at_end=True\n",
    "                        )\n",
    "    \n",
    "        trainer = Trainer(\n",
    "                model=model,\n",
    "                args=training_args,\n",
    "                train_dataset=tokenized_dataset[\"train\"],\n",
    "                eval_dataset=tokenized_dataset[\"validation\"],\n",
    "                tokenizer=tokenizer,\n",
    "                data_collator=data_collator,\n",
    "                compute_metrics=compute_metrics,\n",
    "                )\n",
    "\n",
    "        print(\"training starts\")\n",
    "\n",
    "        trainer.train()\n",
    "        \n",
    "        print(\"Same language test set performance\")\n",
    "        results = trainer.evaluate(tokenized_dataset[\"test\"])\n",
    "        print(results)\n",
    "        \n",
    "        print(\"Zero-shot performance on target language\")\n",
    "        results = trainer.evaluate(newtest_dataset)\n",
    "        print(results)\n",
    "        \n",
    "        trainer.save_model(save_path)\n",
    "\n",
    "    #n = int(0.8*len(tokenized_dataset['train']))\n",
    "    #small_dataset = tokenized_dataset[\"train\"].select(range(1,n))"
   ]
  },
  {
   "cell_type": "code",
   "execution_count": 5,
   "id": "357cbcc3",
   "metadata": {},
   "outputs": [],
   "source": [
    "\"\"\"train a couple of models for step 2, taking a proportion of training data each time, \n",
    "keeping the rest of the settings constant\n",
    "\"\"\"\n",
    "def train_many_models(tokenized_dataset, trained_model, tokenizer):\n",
    "    \n",
    "    training_args = TrainingArguments(\n",
    "                    output_dir=\"tmp\",\n",
    "                    report_to=\"none\",\n",
    "                    learning_rate=2e-5,\n",
    "                    per_device_train_batch_size=16,\n",
    "                    per_device_eval_batch_size=16,\n",
    "                    num_train_epochs=1,\n",
    "                    weight_decay=0.01,\n",
    "                    evaluation_strategy=\"epoch\",\n",
    "                    save_strategy=\"epoch\",\n",
    "                    load_best_model_at_end=True\n",
    "                )\n",
    "        \n",
    "    prop = [0.2, 0.4, 0.6, 0.8, 1.0]\n",
    "    for temp in prop:\n",
    "        print(\"For %s training data\" %temp)\n",
    "        n = int(temp*len(tokenized_dataset['train']))\n",
    "        small_dataset = tokenized_dataset[\"train\"].select(range(1,n))\n",
    "        trainer = Trainer(\n",
    "                    model=trained_model,\n",
    "                    args=training_args,\n",
    "                    train_dataset=small_dataset,\n",
    "                    eval_dataset=tokenized_dataset[\"validation\"],\n",
    "                    tokenizer=tokenizer,\n",
    "                    data_collator=data_collator,\n",
    "                    compute_metrics=compute_metrics,\n",
    "                    )\n",
    "\n",
    "        print(\"training starts\")\n",
    "\n",
    "        trainer.train()\n",
    "        print(\"Test set performance\")\n",
    "        results = trainer.evaluate(tokenized_dataset[\"test\"])\n",
    "        print(results)\n",
    "\n",
    "    #n = int(0.8*len(tokenized_dataset['train']))\n",
    "    #small_dataset = tokenized_dataset[\"train\"].select(range(1,n))"
   ]
  },
  {
   "cell_type": "code",
   "execution_count": 7,
   "id": "33ec41aa",
   "metadata": {},
   "outputs": [
    {
     "name": "stderr",
     "output_type": "stream",
     "text": [
      "Found cached dataset conll2003 (/Users/Vajjalas/.cache/huggingface/datasets/conll2003/conll2003/1.0.0/9a4d16a94f8674ba3466315300359b0acd891b68b6c8743ddf60b9c702adce98)\n"
     ]
    },
    {
     "data": {
      "application/vnd.jupyter.widget-view+json": {
       "model_id": "2d6a24c9c4c64cff8800acff7e8401fa",
       "version_major": 2,
       "version_minor": 0
      },
      "text/plain": [
       "  0%|          | 0/3 [00:00<?, ?it/s]"
      ]
     },
     "metadata": {},
     "output_type": "display_data"
    },
    {
     "name": "stderr",
     "output_type": "stream",
     "text": [
      "Found cached dataset conll2002 (/Users/Vajjalas/.cache/huggingface/datasets/conll2002/nl/1.0.0/a3a8a8612caf57271f5b35c5ae1dd25f99ddb9efb9c1667abaa70ede33e863e5)\n"
     ]
    },
    {
     "data": {
      "application/vnd.jupyter.widget-view+json": {
       "model_id": "31256f3f501f4a198640a79779172cc3",
       "version_major": 2,
       "version_minor": 0
      },
      "text/plain": [
       "  0%|          | 0/3 [00:00<?, ?it/s]"
      ]
     },
     "metadata": {},
     "output_type": "display_data"
    },
    {
     "name": "stderr",
     "output_type": "stream",
     "text": [
      "Found cached dataset conll2002 (/Users/Vajjalas/.cache/huggingface/datasets/conll2002/es/1.0.0/a3a8a8612caf57271f5b35c5ae1dd25f99ddb9efb9c1667abaa70ede33e863e5)\n"
     ]
    },
    {
     "data": {
      "application/vnd.jupyter.widget-view+json": {
       "model_id": "f3be974ac408416f9990ff27212e1f90",
       "version_major": 2,
       "version_minor": 0
      },
      "text/plain": [
       "  0%|          | 0/3 [00:00<?, ?it/s]"
      ]
     },
     "metadata": {},
     "output_type": "display_data"
    }
   ],
   "source": [
    "#Step 0: Stuff that changes for each expt: \n",
    "dataset_name = \"conll2003\" #Dataset for Step 1 [There can be more than one dataset here via concatenation]\n",
    "model_name = \"distilbert-base-uncased\" #Pre-trained LM\n",
    "save_path=\"tmp/conll03enmodel\" #Path to save the model at step 1\n",
    "\n",
    "mydata1 = load_dataset(dataset_name) #Load dataset for Step 1\n",
    "mydata2 = load_dataset(\"conll2002\", \"nl\")\n",
    "\n",
    "#any tags except id, ner, tokens can be removed. \n",
    "mydata1 = mydata1.remove_columns([\"pos_tags\", \"chunk_tags\"])\n",
    "mydata2 = mydata2.remove_columns([\"pos_tags\"])\n",
    "\n",
    "mydata_train = concatenate_datasets([mydata1[\"train\"], mydata2[\"train\"]])\n",
    "mydata_valid = concatenate_datasets([mydata1[\"validation\"], mydata2[\"validation\"]])\n",
    "mydata_test  = concatenate_datasets([mydata1[\"test\"], mydata2[\"test\"]])\n",
    "\n",
    "mydata = DatasetDict({\"train\": mydata_train, \"validation\": mydata_valid, \"test\":mydata_test})\n",
    "\n",
    "cldataset = load_dataset(\"conll2002\", \"es\") #Load dataset for Step 2"
   ]
  },
  {
   "cell_type": "code",
   "execution_count": 8,
   "id": "a404c192",
   "metadata": {},
   "outputs": [
    {
     "name": "stderr",
     "output_type": "stream",
     "text": [
      "Some weights of the model checkpoint at distilbert-base-uncased were not used when initializing DistilBertForTokenClassification: ['vocab_transform.bias', 'vocab_layer_norm.bias', 'vocab_projector.bias', 'vocab_transform.weight', 'vocab_layer_norm.weight']\n",
      "- This IS expected if you are initializing DistilBertForTokenClassification from the checkpoint of a model trained on another task or with another architecture (e.g. initializing a BertForSequenceClassification model from a BertForPreTraining model).\n",
      "- This IS NOT expected if you are initializing DistilBertForTokenClassification from the checkpoint of a model that you expect to be exactly identical (initializing a BertForSequenceClassification model from a BertForSequenceClassification model).\n",
      "Some weights of DistilBertForTokenClassification were not initialized from the model checkpoint at distilbert-base-uncased and are newly initialized: ['classifier.bias', 'classifier.weight']\n",
      "You should probably TRAIN this model on a down-stream task to be able to use it for predictions and inference.\n"
     ]
    },
    {
     "data": {
      "application/vnd.jupyter.widget-view+json": {
       "model_id": "bd04920fa9b342ecabaa49a8b195c192",
       "version_major": 2,
       "version_minor": 0
      },
      "text/plain": [
       "  0%|          | 0/30 [00:00<?, ?ba/s]"
      ]
     },
     "metadata": {},
     "output_type": "display_data"
    },
    {
     "data": {
      "application/vnd.jupyter.widget-view+json": {
       "model_id": "6e7a512249a04838accaf9455e5f4474",
       "version_major": 2,
       "version_minor": 0
      },
      "text/plain": [
       "  0%|          | 0/7 [00:00<?, ?ba/s]"
      ]
     },
     "metadata": {},
     "output_type": "display_data"
    },
    {
     "data": {
      "application/vnd.jupyter.widget-view+json": {
       "model_id": "120981f1056f4fde9e8267dc822ac635",
       "version_major": 2,
       "version_minor": 0
      },
      "text/plain": [
       "  0%|          | 0/9 [00:00<?, ?ba/s]"
      ]
     },
     "metadata": {},
     "output_type": "display_data"
    },
    {
     "name": "stderr",
     "output_type": "stream",
     "text": [
      "Loading cached processed dataset at /Users/Vajjalas/.cache/huggingface/datasets/conll2002/es/1.0.0/a3a8a8612caf57271f5b35c5ae1dd25f99ddb9efb9c1667abaa70ede33e863e5/cache-359eb48310ad7d56.arrow\n",
      "Loading cached processed dataset at /Users/Vajjalas/.cache/huggingface/datasets/conll2002/es/1.0.0/a3a8a8612caf57271f5b35c5ae1dd25f99ddb9efb9c1667abaa70ede33e863e5/cache-7f7012fd28dd0e95.arrow\n",
      "Loading cached processed dataset at /Users/Vajjalas/.cache/huggingface/datasets/conll2002/es/1.0.0/a3a8a8612caf57271f5b35c5ae1dd25f99ddb9efb9c1667abaa70ede33e863e5/cache-af3d67afac984d69.arrow\n",
      "/Users/Vajjalas/Library/Python/3.9/lib/python/site-packages/transformers/optimization.py:391: FutureWarning: This implementation of AdamW is deprecated and will be removed in a future version. Use the PyTorch implementation torch.optim.AdamW instead, or set `no_deprecation_warning=True` to disable this warning\n",
      "  warnings.warn(\n",
      "You're using a DistilBertTokenizerFast tokenizer. Please note that with a fast tokenizer, using the `__call__` method is faster than using a method to encode the text followed by a call to the `pad` method to get a padded encoding.\n"
     ]
    },
    {
     "name": "stdout",
     "output_type": "stream",
     "text": [
      "training starts\n"
     ]
    },
    {
     "data": {
      "text/html": [
       "\n",
       "    <div>\n",
       "      \n",
       "      <progress value='1866' max='1866' style='width:300px; height:20px; vertical-align: middle;'></progress>\n",
       "      [1866/1866 20:20, Epoch 1/1]\n",
       "    </div>\n",
       "    <table border=\"1\" class=\"dataframe\">\n",
       "  <thead>\n",
       " <tr style=\"text-align: left;\">\n",
       "      <th>Epoch</th>\n",
       "      <th>Training Loss</th>\n",
       "      <th>Validation Loss</th>\n",
       "      <th>Precision</th>\n",
       "      <th>Recall</th>\n",
       "      <th>F1</th>\n",
       "      <th>Accuracy</th>\n",
       "    </tr>\n",
       "  </thead>\n",
       "  <tbody>\n",
       "    <tr>\n",
       "      <td>1</td>\n",
       "      <td>0.102400</td>\n",
       "      <td>0.098128</td>\n",
       "      <td>0.861290</td>\n",
       "      <td>0.842370</td>\n",
       "      <td>0.851725</td>\n",
       "      <td>0.975025</td>\n",
       "    </tr>\n",
       "  </tbody>\n",
       "</table><p>"
      ],
      "text/plain": [
       "<IPython.core.display.HTML object>"
      ]
     },
     "metadata": {},
     "output_type": "display_data"
    },
    {
     "name": "stdout",
     "output_type": "stream",
     "text": [
      "Same language test set performance\n"
     ]
    },
    {
     "data": {
      "text/html": [
       "\n",
       "    <div>\n",
       "      \n",
       "      <progress value='636' max='541' style='width:300px; height:20px; vertical-align: middle;'></progress>\n",
       "      [541/541 02:09]\n",
       "    </div>\n",
       "    "
      ],
      "text/plain": [
       "<IPython.core.display.HTML object>"
      ]
     },
     "metadata": {},
     "output_type": "display_data"
    },
    {
     "name": "stdout",
     "output_type": "stream",
     "text": [
      "{'eval_loss': 0.12056293338537216, 'eval_precision': 0.817501626545218, 'eval_recall': 0.7863773860436007, 'eval_f1': 0.8016375139560848, 'eval_accuracy': 0.9706140008500083, 'eval_runtime': 101.1634, 'eval_samples_per_second': 85.495, 'eval_steps_per_second': 5.348, 'epoch': 1.0}\n",
      "Zero-shot performance on target language\n",
      "{'eval_loss': 0.7953947186470032, 'eval_precision': 0.1622243127417163, 'eval_recall': 0.43607754987356, 'eval_f1': 0.2364772207831784, 'eval_accuracy': 0.7255544990588555, 'eval_runtime': 29.5763, 'eval_samples_per_second': 51.325, 'eval_steps_per_second': 3.212, 'epoch': 1.0}\n"
     ]
    }
   ],
   "source": [
    "#Step 1: Fine-tune the first level NER model (which can be mono or multilingual)\n",
    "label_list = mydata[\"train\"].features[f\"ner_tags\"].feature.names\n",
    "id2label = {k: v for k,v in enumerate(label_list)}\n",
    "label2id = {v: k for k,v in enumerate(label_list)}\n",
    "model = AutoModelForTokenClassification.from_pretrained(\n",
    "        model_name, num_labels=len(label_list), id2label=id2label, label2id=label2id)\n",
    "tokenizer = AutoTokenizer.from_pretrained(model_name)\n",
    "\n",
    "tokenized_dataset = mydata.map(tokenize_and_align_labels, batched=True)\n",
    "cl_tokenized_dataset = cldataset.map(tokenize_and_align_labels, batched=True)\n",
    "\n",
    "#dynamically padding:\n",
    "data_collator = DataCollatorForTokenClassification(tokenizer=tokenizer)\n",
    "\n",
    "train_model = train_one_model(tokenized_dataset, cl_tokenized_dataset[\"test\"], model, tokenizer, save_path)\n"
   ]
  },
  {
   "cell_type": "code",
   "execution_count": null,
   "id": "99735ce5",
   "metadata": {},
   "outputs": [
    {
     "name": "stdout",
     "output_type": "stream",
     "text": [
      "For 0.2 training data\n",
      "training starts\n"
     ]
    },
    {
     "name": "stderr",
     "output_type": "stream",
     "text": [
      "/Users/Vajjalas/Library/Python/3.9/lib/python/site-packages/transformers/optimization.py:391: FutureWarning: This implementation of AdamW is deprecated and will be removed in a future version. Use the PyTorch implementation torch.optim.AdamW instead, or set `no_deprecation_warning=True` to disable this warning\n",
      "  warnings.warn(\n"
     ]
    },
    {
     "data": {
      "text/html": [
       "\n",
       "    <div>\n",
       "      \n",
       "      <progress value='20' max='104' style='width:300px; height:20px; vertical-align: middle;'></progress>\n",
       "      [ 20/104 00:16 < 01:17, 1.08 it/s, Epoch 0.18/1]\n",
       "    </div>\n",
       "    <table border=\"1\" class=\"dataframe\">\n",
       "  <thead>\n",
       " <tr style=\"text-align: left;\">\n",
       "      <th>Epoch</th>\n",
       "      <th>Training Loss</th>\n",
       "      <th>Validation Loss</th>\n",
       "    </tr>\n",
       "  </thead>\n",
       "  <tbody>\n",
       "  </tbody>\n",
       "</table><p>"
      ],
      "text/plain": [
       "<IPython.core.display.HTML object>"
      ]
     },
     "metadata": {},
     "output_type": "display_data"
    }
   ],
   "source": [
    "#Step 2: Use the model from Step-1 for doing Cross-lingual transfer experiment with a new dataset.\n",
    "trained_model = AutoModelForTokenClassification.from_pretrained(save_path)\n",
    "train_many_models(cl_tokenized_dataset, trained_model, tokenizer)"
   ]
  },
  {
   "cell_type": "code",
   "execution_count": null,
   "id": "f1e5c8f8",
   "metadata": {},
   "outputs": [],
   "source": [
    "#for custom datasets: https://huggingface.co/transformers/v3.2.0/custom_datasets.html - search for .conll here. "
   ]
  }
 ],
 "metadata": {
  "kernelspec": {
   "display_name": "Python 3 (ipykernel)",
   "language": "python",
   "name": "python3"
  },
  "language_info": {
   "codemirror_mode": {
    "name": "ipython",
    "version": 3
   },
   "file_extension": ".py",
   "mimetype": "text/x-python",
   "name": "python",
   "nbconvert_exporter": "python",
   "pygments_lexer": "ipython3",
   "version": "3.9.6"
  }
 },
 "nbformat": 4,
 "nbformat_minor": 5
}
